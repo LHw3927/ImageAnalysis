{
 "cells": [
  {
   "cell_type": "markdown",
   "id": "34c24d4e",
   "metadata": {},
   "source": [
    "# 이미지 가공 시연 사이트\n",
    "\n",
    "\n",
    "#### 개요: \n",
    "다양한 이미지 가공 기법을 보여주는 사이트\n",
    "\n",
    "\n",
    "#### 보여줄 기법:\n",
    "\n",
    "    - 가우시안 필터  ( gaussian )\n",
    "    - 양방향 필터  ( bilateralFilter )    \n",
    "    - 미디안 필터  ( medianBlur )\n",
    "    - 이동 평균 필터 ( moving average filter )\n",
    "    - 히스토그램 평준화 ( equalizeHist )\n",
    "    \n",
    "    - 캐니  ( canny )\n",
    "    - 컨투어  ( contour )"
   ]
  },
  {
   "cell_type": "code",
   "execution_count": null,
   "id": "7d358b82",
   "metadata": {},
   "outputs": [],
   "source": []
  }
 ],
 "metadata": {
  "kernelspec": {
   "display_name": "Python 3 (ipykernel)",
   "language": "python",
   "name": "python3"
  },
  "language_info": {
   "codemirror_mode": {
    "name": "ipython",
    "version": 3
   },
   "file_extension": ".py",
   "mimetype": "text/x-python",
   "name": "python",
   "nbconvert_exporter": "python",
   "pygments_lexer": "ipython3",
   "version": "3.9.12"
  }
 },
 "nbformat": 4,
 "nbformat_minor": 5
}
