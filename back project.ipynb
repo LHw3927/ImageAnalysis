{
 "cells": [
  {
   "cell_type": "code",
   "execution_count": 1,
   "id": "891c3dd6",
   "metadata": {},
   "outputs": [],
   "source": [
    "\n",
    "\n",
    "import cv2\n",
    "import numpy as np\n",
    "import matplotlib.pyplot as plt\n",
    "\n"
   ]
  },
  {
   "cell_type": "code",
   "execution_count": 18,
   "id": "6021a2d6",
   "metadata": {},
   "outputs": [
    {
     "ename": "error",
     "evalue": "OpenCV(4.6.0) D:\\a\\opencv-python\\opencv-python\\opencv\\modules\\imgproc\\src\\histogram.cpp:2000: error: (-215:Assertion failed) csz == 0 || csz == dims || (csz == 1 && _1d) in function 'cv::calcBackProject'\n",
     "output_type": "error",
     "traceback": [
      "\u001b[1;31m---------------------------------------------------------------------------\u001b[0m",
      "\u001b[1;31merror\u001b[0m                                     Traceback (most recent call last)",
      "Input \u001b[1;32mIn [18]\u001b[0m, in \u001b[0;36m<cell line: 62>\u001b[1;34m()\u001b[0m\n\u001b[0;32m     70\u001b[0m     \u001b[38;5;66;03m#--④ ROI의 히스토그램을 매뉴얼 구현함수와 OpenCV 이용하는 함수에 각각 전달\u001b[39;00m\n\u001b[0;32m     71\u001b[0m     backProject_manual(hist_roi)\n\u001b[1;32m---> 72\u001b[0m     \u001b[43mbackProject_cv\u001b[49m\u001b[43m(\u001b[49m\u001b[43mhist_roi\u001b[49m\u001b[43m)\u001b[49m\n\u001b[0;32m     73\u001b[0m cv2\u001b[38;5;241m.\u001b[39mimshow(win_name, draw)\n\u001b[0;32m     74\u001b[0m cv2\u001b[38;5;241m.\u001b[39mwaitKey()\n",
      "Input \u001b[1;32mIn [18]\u001b[0m, in \u001b[0;36mbackProject_cv\u001b[1;34m(hist_roi)\u001b[0m\n\u001b[0;32m     48\u001b[0m \u001b[38;5;28;01mdef\u001b[39;00m \u001b[38;5;21mbackProject_cv\u001b[39m(hist_roi):\n\u001b[0;32m     49\u001b[0m     \u001b[38;5;66;03m# 역투영 함수 호출 ---⑫\u001b[39;00m\n\u001b[1;32m---> 50\u001b[0m     bp \u001b[38;5;241m=\u001b[39m \u001b[43mcv2\u001b[49m\u001b[38;5;241;43m.\u001b[39;49m\u001b[43mcalcBackProject\u001b[49m\u001b[43m(\u001b[49m\u001b[43m[\u001b[49m\u001b[43mhsv_img\u001b[49m\u001b[43m]\u001b[49m\u001b[43m,\u001b[49m\u001b[43m \u001b[49m\u001b[43m[\u001b[49m\u001b[38;5;241;43m0\u001b[39;49m\u001b[43m,\u001b[49m\u001b[43m \u001b[49m\u001b[38;5;241;43m1\u001b[39;49m\u001b[43m,\u001b[49m\u001b[43m \u001b[49m\u001b[38;5;241;43m2\u001b[39;49m\u001b[43m]\u001b[49m\u001b[43m,\u001b[49m\u001b[43m \u001b[49m\u001b[43mhist_roi\u001b[49m\u001b[43m,\u001b[49m\u001b[43m  \u001b[49m\u001b[43m[\u001b[49m\u001b[38;5;241;43m0\u001b[39;49m\u001b[43m,\u001b[49m\u001b[43m \u001b[49m\u001b[38;5;241;43m180\u001b[39;49m\u001b[43m,\u001b[49m\u001b[43m \u001b[49m\u001b[38;5;241;43m0\u001b[39;49m\u001b[43m,\u001b[49m\u001b[43m \u001b[49m\u001b[38;5;241;43m256\u001b[39;49m\u001b[43m]\u001b[49m\u001b[43m,\u001b[49m\u001b[43m \u001b[49m\u001b[38;5;241;43m1\u001b[39;49m\u001b[43m)\u001b[49m\n\u001b[0;32m     51\u001b[0m     \u001b[38;5;66;03m# 역 투영 결과로 마스킹해서 결과 출력 ---⑬ \u001b[39;00m\n\u001b[0;32m     52\u001b[0m     masking(bp,\u001b[38;5;124m'\u001b[39m\u001b[38;5;124mresult_cv\u001b[39m\u001b[38;5;124m'\u001b[39m)\n",
      "\u001b[1;31merror\u001b[0m: OpenCV(4.6.0) D:\\a\\opencv-python\\opencv-python\\opencv\\modules\\imgproc\\src\\histogram.cpp:2000: error: (-215:Assertion failed) csz == 0 || csz == dims || (csz == 1 && _1d) in function 'cv::calcBackProject'\n"
     ]
    }
   ],
   "source": [
    "win_name = 'back_projection'\n",
    "img = cv2.imread('C:/Users/admin/Desktop/ImageAnalysis/Test_Image/QuteBird.jpg')\n",
    "hsv_img = cv2.cvtColor(img, cv2.COLOR_BGR2HSV)\n",
    "draw = img.copy()\n",
    "\n",
    "\n",
    "\n",
    "\n",
    "#--⑤ 역투영된 결과를 마스킹해서 결과를 출력하는 공통함수\n",
    "\n",
    "\n",
    "def masking(bp, win_name):\n",
    "    disc = cv2.getStructuringElement(cv2.MORPH_ELLIPSE,(5,5))\n",
    "    cv2.filter2D(bp,-1,disc,bp)\n",
    "    _, mask = cv2.threshold(bp, 1, 255, cv2.THRESH_BINARY)\n",
    "    result = cv2.bitwise_and(img, img, mask=mask)\n",
    "    cv2.imshow(win_name, result)\n",
    "\n",
    "    \n",
    "    \n",
    "    \n",
    "    \n",
    "    \n",
    "#--⑥ 직접 구현한 역투영 함수\n",
    "def backProject_manual(hist_roi):\n",
    "    #--⑦ 전체 영상에 대한 H,S 히스토그램 계산\n",
    "    hist_img = cv2.calcHist([hsv_img], [0,1], None,[180,256], [0,180,0,256])\n",
    "    #--⑧ 선택영역과 전체 영상에 대한 히스토그램 그램 비율계산\n",
    "    hist_rate = hist_roi/ (hist_img + 1)\n",
    "    #--⑨ 비율에 맞는 픽셀 값 매핑\n",
    "    h,s,v = cv2.split(hsv_img)\n",
    "    bp = hist_rate[h.ravel(), s.ravel()]\n",
    "    # 비율은 1을 넘어서는 안되기 때문에 1을 넘는 수는 1을 갖게 함\n",
    "    bp = np.minimum(bp, 1)\n",
    "    # 1차원 배열을 원래의 shape로 변환\n",
    "    bp = bp.reshape(hsv_img.shape[:2])\n",
    "    cv2.normalize(bp,bp, 0, 255, cv2.NORM_MINMAX)\n",
    "    bp = bp.astype(np.uint8)\n",
    "    #--⑩ 역 투영 결과로 마스킹해서 결과 출력\n",
    "    \n",
    "    \n",
    "    \n",
    "    \n",
    "    \n",
    "    masking(bp,'result_manual')\n",
    " \n",
    "# OpenCV API로 구현한 함수 ---⑪ \n",
    "def backProject_cv(hist_roi):\n",
    "    # 역투영 함수 호출 ---⑫\n",
    "    bp = cv2.calcBackProject([hsv_img], [0, 1], hist_roi,  [0, 180, 0, 256], 1)\n",
    "    # 역 투영 결과로 마스킹해서 결과 출력 ---⑬ \n",
    "    masking(bp,'result_cv')\n",
    "    \n",
    "    \n",
    "    \n",
    "    \n",
    "    \n",
    "    \n",
    "\n",
    "# ROI 선택 ---①\n",
    "(x,y,w,h) = cv2.selectROI(win_name, img, False)\n",
    "if w > 0 and h > 0:\n",
    "    roi = draw[y:y+h, x:x+w]\n",
    "    # 빨간 사각형으로 ROI 영역 표시\n",
    "    cv2.rectangle(draw, (x, y), (x+w, y+h), (0,0,255), 2)\n",
    "    #--② 선택한 ROI를 HSV 컬러 스페이스로 변경\n",
    "    hsv_roi = cv2.cvtColor(roi, cv2.COLOR_BGR2HSV)\n",
    "    #--③ H,S 채널에 대한 히스토그램 계산\n",
    "    hist_roi = cv2.calcHist([hsv_roi],[0, 1], None, [180, 256], [0, 180, 0, 256] )\n",
    "    #--④ ROI의 히스토그램을 매뉴얼 구현함수와 OpenCV 이용하는 함수에 각각 전달\n",
    "    backProject_manual(hist_roi)\n",
    "    backProject_cv(hist_roi)\n",
    "cv2.imshow(win_name, draw)\n",
    "cv2.waitKey()\n",
    "cv2.destroyAllWindows()"
   ]
  },
  {
   "cell_type": "code",
   "execution_count": 24,
   "id": "86ca0438",
   "metadata": {},
   "outputs": [
    {
     "data": {
      "text/plain": [
       "(400, 570, 3)"
      ]
     },
     "execution_count": 24,
     "metadata": {},
     "output_type": "execute_result"
    }
   ],
   "source": [
    "hsv_img.shape"
   ]
  },
  {
   "cell_type": "code",
   "execution_count": 25,
   "id": "07dc4954",
   "metadata": {},
   "outputs": [
    {
     "data": {
      "text/plain": [
       "array([[ 19,  16, 125],\n",
       "       [ 19,  16, 124],\n",
       "       [ 19,  16, 125],\n",
       "       ...,\n",
       "       [114,   8, 170],\n",
       "       [114,   8, 169],\n",
       "       [114,   8, 169]], dtype=uint8)"
      ]
     },
     "execution_count": 25,
     "metadata": {},
     "output_type": "execute_result"
    }
   ],
   "source": [
    "hsv_img[0]"
   ]
  }
 ],
 "metadata": {
  "kernelspec": {
   "display_name": "Python 3 (ipykernel)",
   "language": "python",
   "name": "python3"
  },
  "language_info": {
   "codemirror_mode": {
    "name": "ipython",
    "version": 3
   },
   "file_extension": ".py",
   "mimetype": "text/x-python",
   "name": "python",
   "nbconvert_exporter": "python",
   "pygments_lexer": "ipython3",
   "version": "3.9.12"
  }
 },
 "nbformat": 4,
 "nbformat_minor": 5
}
