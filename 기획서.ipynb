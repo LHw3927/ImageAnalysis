{
 "cells": [
  {
   "cell_type": "markdown",
   "id": "c5d36c9f",
   "metadata": {},
   "source": [
    "## 카메라 웹앱\n",
    "\n",
    "\n",
    "\n",
    "### 개요:\n",
    "iot시대 다양한것들이 인터넷에 연결되어있다.점점 더 카메라가 사용되는 기계가 많아진다.(IP카메라, 드론, 스마트 글레스)</br>\n",
    "이러한 환경을 효과적으로 사용할수있는 소프트웨어가 필요하다.\n",
    "- #### 왜냐하면 \n",
    "기계에는 물리적인 한계점이 존제한다. \n",
    "크기가 작을수록 복잡한 연산에 불리하다.\t( 연산장치의 크기, 발열, 베터리 소모 )\n",
    "- #### 따라서 \n",
    "크기가 작고, 카메라가 달린 기기들을 제대로 활용하기 위해서는 \n",
    "서버와의 통신으로 데이터를 처리하는과정이 필요하다.\n",
    "- #### 그래서\n",
    "카메라 웹앱 프로젝트는 서버에서 이미지분석을 대신해준다.\n",
    "\n",
    "\n",
    "### 기능:\n",
    "#### 이미지 객체 구분:\n",
    "    - 사용자 인터페이스가 존제하는 경우 일부 색들을 선택하였을때  객체를 구분하여 객체부분만 반환한다\n",
    "\n",
    "\n",
    "\n",
    "#### 동영상 객체 추적:\n",
    "    - 움직이는 물체가 감지될경우 해당 객체를 추적한다. 임의로 생성된 객체번호와 이미지 기준의 좌표, 대략적 크기를 반환한다.\n",
    "    - 기억시킨 객체가 있을경우 해당 객체를 추적한다. 저장된 객체번호와 이미지 기준의 좌표, 대략적 크기를 반환한다.\n",
    "    "
   ]
  }
 ],
 "metadata": {
  "kernelspec": {
   "display_name": "Python 3 (ipykernel)",
   "language": "python",
   "name": "python3"
  },
  "language_info": {
   "codemirror_mode": {
    "name": "ipython",
    "version": 3
   },
   "file_extension": ".py",
   "mimetype": "text/x-python",
   "name": "python",
   "nbconvert_exporter": "python",
   "pygments_lexer": "ipython3",
   "version": "3.9.12"
  }
 },
 "nbformat": 4,
 "nbformat_minor": 5
}
