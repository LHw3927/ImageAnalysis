{
 "cells": [
  {
   "cell_type": "code",
   "execution_count": 14,
   "id": "3547c825",
   "metadata": {},
   "outputs": [],
   "source": [
    "import cv2\n",
    "import numpy as np\n",
    "import matplotlib.pyplot as plt\n",
    "import numpy as np\n",
    "import pandas as pd\n",
    "from PIL import Image\n"
   ]
  },
  {
   "cell_type": "markdown",
   "id": "0aa8852c",
   "metadata": {},
   "source": [
    "\n",
    "length = int(video.get(cv2.CAP_PROP_FRAME_COUNT))\n",
    "\n",
    "\n",
    "width = int(video.get(cv2.CAP_PROP_FRAME_WIDTH))\n",
    "\n",
    "\n",
    "height = int(video.get(cv2.CAP_PROP_FRAME_HEIGHT))\n",
    "\n",
    "\n",
    "fps = video.get(cv2.CAP_PROP_FPS)\n",
    "\n",
    "\n",
    "count = int(cap.get(cv2.CAP_PROP_FRAME_COUNT))\n"
   ]
  },
  {
   "cell_type": "code",
   "execution_count": 15,
   "id": "56d7b850",
   "metadata": {},
   "outputs": [],
   "source": [
    "\n",
    "TestImage_Path = 'Test_Image/'\n",
    "\n",
    "origin_panda = cv2.imread(TestImage_Path+'panda.jpg')\n",
    "origin_bird = cv2.imread(TestImage_Path+'QuteBird.jpg')\n",
    "origin_self_1 = cv2.cvtColor(cv2.imread(TestImage_Path+'self_1.jpg'),cv2.COLOR_BGR2RGB)\n",
    "origin_tree = cv2.cvtColor(cv2.imread(TestImage_Path+'tree.jpg'),cv2.COLOR_BGR2RGB)\n",
    "origin_lenna = cv2.cvtColor(cv2.imread(TestImage_Path+'Lenna.png'),cv2.COLOR_BGR2RGB)\n",
    "\n",
    "origin_howon = cv2.cvtColor(cv2.imread(TestImage_Path+'howon.jpg'),cv2.COLOR_BGR2RGB)\n",
    "origin_minho = cv2.cvtColor(cv2.imread(TestImage_Path+'minho.jpg'),cv2.COLOR_BGR2RGB)\n",
    "origin_minho_jisu = cv2.cvtColor(cv2.imread(TestImage_Path+'minho_jisu.jpg'),cv2.COLOR_BGR2RGB)\n",
    "origin_Character_1 = cv2.cvtColor(cv2.imread(TestImage_Path+'Character.jpg'),cv2.COLOR_BGR2RGB)\n",
    "\n",
    "origin_sns_post = cv2.cvtColor(cv2.imread(TestImage_Path+'cat_1.jpg'),cv2.COLOR_BGR2RGB)\n",
    "\n",
    "vidio_dird = cv2.VideoCapture(TestImage_Path+'bird.mp4')\n",
    "  \n",
    "\n"
   ]
  },
  {
   "cell_type": "code",
   "execution_count": 16,
   "id": "42b8e9b8",
   "metadata": {},
   "outputs": [
    {
     "data": {
      "text/plain": [
       "29.97002997002997"
      ]
     },
     "execution_count": 16,
     "metadata": {},
     "output_type": "execute_result"
    }
   ],
   "source": [
    "fps = vidio_dird.get(cv2.CAP_PROP_FPS)\n",
    "fps"
   ]
  },
  {
   "cell_type": "code",
   "execution_count": 474,
   "id": "32e47986",
   "metadata": {},
   "outputs": [
    {
     "data": {
      "text/plain": [
       "False"
      ]
     },
     "execution_count": 474,
     "metadata": {},
     "output_type": "execute_result"
    }
   ],
   "source": [
    "\n",
    "ret, image = vidio_dird.read()\n",
    "# if(int(vidio_dird.get(1)) % fps == 0): #앞서 불러온 fps 값을 사용하여 1초마다 추출\n",
    "\n",
    "# plt.imshow(cv2.cvtColor(image,cv2.COLOR_BGR2RGB))\n",
    "\n",
    "ret"
   ]
  },
  {
   "cell_type": "code",
   "execution_count": null,
   "id": "2106131c",
   "metadata": {},
   "outputs": [],
   "source": [
    "vidio_dird = cv2.VideoCapture(TestImage_Path+'bird.mp4')\n",
    "fps = vidio_dird.get(cv2.CAP_PROP_FPS)\n",
    "\n",
    "cnt = 0\n",
    "\n",
    "shot = 0\n",
    "second = 0.5\n",
    "\n",
    "while True:\n",
    "    ret, image = vidio_dird.read()\n",
    "    cnt +=1\n",
    "    if(cnt % int(fps * second) == 0):\n",
    "        f,ax = plt.subplots(1,1)\n",
    "        f.set_size_inches(4,4)\n",
    "        ax.imshow(cv2.cvtColor(image,cv2.COLOR_BGR2RGB))\n",
    "        \n",
    "        shot += 1\n",
    "    if not ret:\n",
    "        break\n",
    "        \n",
    "shot, cnt"
   ]
  },
  {
   "cell_type": "code",
   "execution_count": 485,
   "id": "4ca2b4a7",
   "metadata": {},
   "outputs": [
    {
     "data": {
      "text/plain": [
       "4"
      ]
     },
     "execution_count": 485,
     "metadata": {},
     "output_type": "execute_result"
    }
   ],
   "source": [
    "20 % 8"
   ]
  }
 ],
 "metadata": {
  "kernelspec": {
   "display_name": "Python 3 (ipykernel)",
   "language": "python",
   "name": "python3"
  },
  "language_info": {
   "codemirror_mode": {
    "name": "ipython",
    "version": 3
   },
   "file_extension": ".py",
   "mimetype": "text/x-python",
   "name": "python",
   "nbconvert_exporter": "python",
   "pygments_lexer": "ipython3",
   "version": "3.9.12"
  }
 },
 "nbformat": 4,
 "nbformat_minor": 5
}
